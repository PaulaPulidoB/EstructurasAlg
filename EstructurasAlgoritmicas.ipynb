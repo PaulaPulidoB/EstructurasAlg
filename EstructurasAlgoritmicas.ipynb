{
  "nbformat": 4,
  "nbformat_minor": 0,
  "metadata": {
    "colab": {
      "provenance": []
    },
    "kernelspec": {
      "name": "python3",
      "display_name": "Python 3"
    },
    "language_info": {
      "name": "python"
    }
  },
  "cells": [
    {
      "cell_type": "code",
      "execution_count": null,
      "metadata": {
        "colab": {
          "base_uri": "https://localhost:8080/"
        },
        "id": "S8IAN_R44JCQ",
        "outputId": "073839dd-4e31-4c25-b861-5929a443f345"
      },
      "outputs": [
        {
          "output_type": "stream",
          "name": "stdout",
          "text": [
            "Países que comienzan con la letra 'A':\n",
            "Argentina\n",
            "Australia\n",
            "África del Sur\n",
            "Afganistán\n",
            "Armenia\n"
          ]
        }
      ],
      "source": [
        "#LISTAS\n",
        "#Las listas son un tipo de estructura de datos que permite almacenar múltiples elementos en una sola variable.\n",
        "#Se definen utilizando corchetes [ ], y los elementos pueden ser de cualquier tipo: números, cadenas, otras listas, etc.\n",
        "#Características principales de las listas:\n",
        "#Ordenadas: los elementos tienen un orden y ese orden no cambia automáticamente.\n",
        "#Mutables: puedes cambiar, añadir o eliminar elementos.\n",
        "#Permiten duplicados: pueden tener elementos repetidos.\n",
        "\n",
        "# Crear una lista de países que comienzan con la letra A\n",
        "# Cada país se coloca entre comillas y se separa por comas.\n",
        "paises = [\"Argentina\", \"Australia\", \"África del Sur\", \"Afganistán\", \"Armenia\"]\n",
        "\n",
        "# Mostrar la lista\n",
        "# Imprime un mensaje explicativo para identificar qué se está mostrando\n",
        "print(\"Países que comienzan con la letra 'A':\")\n",
        "# Usamos un bucle for para recorrer cada elemento de la lista paises\n",
        "for pais in paises:\n",
        "    print(pais)\n"
      ]
    },
    {
      "cell_type": "markdown",
      "source": [
        "Grabación de audio"
      ],
      "metadata": {
        "id": "4f7zT7eMOKRu"
      }
    },
    {
      "cell_type": "markdown",
      "source": [
        "[Audio listas] https://github.com/PaulaPulidoB/EstructurasAlg/estructurasalgoritmicas/Listas.mp3"
      ],
      "metadata": {
        "id": "V5s2qqBuPyB8"
      }
    },
    {
      "cell_type": "code",
      "source": [
        "# Creamos una lista llamada números con varios valores\n",
        "numeros = [4, 12, 7, 25, 10, 18, 3]\n",
        "\n",
        "# Mostrar solo los números mayores que 10\n",
        "print(\"Números mayores que 10:\")\n",
        "for numero in numeros:\n",
        "    if numero > 10:\n",
        "# Si la condición se cumple, lo mostramos en pantalla.\n",
        "        print(numero)"
      ],
      "metadata": {
        "colab": {
          "base_uri": "https://localhost:8080/"
        },
        "id": "rkVRWeOKE_2u",
        "outputId": "a7f89fd5-cbd2-4483-9727-3442f4d9944c"
      },
      "execution_count": null,
      "outputs": [
        {
          "output_type": "stream",
          "name": "stdout",
          "text": [
            "Números mayores que 10:\n",
            "12\n",
            "25\n",
            "18\n"
          ]
        }
      ]
    },
    {
      "cell_type": "code",
      "source": [
        "#DICCIONARIOS\n",
        "#Un diccionario en Python es una colección de datos que almacena información.\n",
        "#Los diccionarios usan llaves {} para definirse. Un diccionario en Python\n",
        "#es como una agenda o lista de contactos, donde cada persona tiene un nombre\n",
        "#(clave) y un número de teléfono (valor).  Es una colección de datos\n",
        "#organizados en pares: \"clave: valor\" y se puede buscar rápidamente un valor con solo saber su clave.\n",
        "\n",
        "#Los diccionarios son muy útiles para guardar información estructurada.\n",
        "#Se usan para representar objetos, registros, configuraciones, etc.\n",
        "#Tienen una clave única que permite acceder al valor asociado rápidamente.\n",
        "\n",
        "#Se crea un diccionario llamado persona.\n",
        "#Un diccionario guarda pares de datos: una clave y un valor.\n",
        "persona = {\n",
        "    \"nombre\": \"Lucía\",\n",
        "    \"edad\": 30,\n",
        "    \"profesion\": \"Doctora\"\n",
        "}\n",
        "#Este print va a mostrar el texto \"Nombre:\" seguido del valor asociado a la clave \"nombre\"\n",
        "print(\"Nombre:\", persona[\"nombre\"])\n",
        "#Este imprime \"Edad:\" y luego el valor de la clave \"edad\".\n",
        "print(\"Edad:\", persona[\"edad\"])\n",
        "#Imprime \"Profesión:\" seguido del valor correspondiente a la clave \"profesion\".\n",
        "print(\"Profesión:\", persona[\"profesion\"])\n"
      ],
      "metadata": {
        "colab": {
          "base_uri": "https://localhost:8080/"
        },
        "id": "d-tqOVMUMCwc",
        "outputId": "cbdfabdd-e06f-4d3d-b740-01486822da40"
      },
      "execution_count": null,
      "outputs": [
        {
          "output_type": "stream",
          "name": "stdout",
          "text": [
            "Nombre: Lucía\n",
            "Edad: 30\n",
            "Profesión: Doctora\n"
          ]
        }
      ]
    },
    {
      "cell_type": "markdown",
      "source": [
        "[Audio Diccionarios] https://github.com/PaulaPulidoB/EstructurasAlg/estructurasalgoritmicas/Diccionarios.mp3"
      ],
      "metadata": {
        "id": "DGCg8UcAPFcG"
      }
    },
    {
      "cell_type": "code",
      "source": [
        "#menu de restaurante\n",
        "# se Guarda 3 platos con sus precios.\n",
        "menu = {\n",
        "    \"hamburguesa\": 15.000,\n",
        "    \"pizza\": 22.000,\n",
        "    \"ensalada\": 12.000\n",
        "}\n",
        "#El usuario escribe un plato.\n",
        "plato = input(\"¿Qué plato quieres consultar? \").lower()\n",
        "\n",
        "#Si el plato está, muestra el precio.\n",
        "# Sino, indica que no está en el menú.\n",
        "\n",
        "if plato in menu:\n",
        "    print(f\"El precio de {plato} es S/ {menu[plato]}\")\n",
        "else:\n",
        "    print(\"Ese plato no está en el menú.\")"
      ],
      "metadata": {
        "colab": {
          "base_uri": "https://localhost:8080/"
        },
        "id": "GDMZpK-1UdgQ",
        "outputId": "cc0026d5-8775-442c-8c00-5e81fc4838a2"
      },
      "execution_count": null,
      "outputs": [
        {
          "output_type": "stream",
          "name": "stdout",
          "text": [
            "¿Qué plato quieres consultar? ensalada\n",
            "El precio de ensalada es S/ 12.0\n"
          ]
        }
      ]
    },
    {
      "cell_type": "code",
      "source": [
        "#OPERACIONES MATEMÁTICAS\n",
        "#Las operaciones matemáticas en Python son cálculos o expresiones numéricas\n",
        "#que usamos para sumar, restar, multiplicar, dividir, etc.\n",
        "#Se usan símbolos especiales (llamados operadores) que funcionan igual que en una calculadora\n",
        "#Estructura general: resultado = número1 operador número2\n",
        "\n",
        "#se crea una variable llamada a y se guarda el número 10”\n",
        "#se crea una variable llamada b y se guarda el número 3”\n",
        "a = 10\n",
        "b = 3\n",
        "\n",
        "#A partir de acá, se utiliza el print() para mostrar operaciones usando a y b.\n",
        "# con cada operación matemática\n",
        "print(\"Suma:\", a + b)\n",
        "print(\"Resta:\", a - b)\n",
        "print(\"Multiplicación:\", a * b)\n",
        "print(\"División:\", a / b)\n",
        "print(\"División entera:\", a // b)\n",
        "print(\"Módulo:\", a % b)\n",
        "print(\"Potencia:\", a ** b)"
      ],
      "metadata": {
        "colab": {
          "base_uri": "https://localhost:8080/"
        },
        "id": "oh3C7FbgZWm4",
        "outputId": "964ea5da-3402-4549-dde0-3dfc027c22a4"
      },
      "execution_count": null,
      "outputs": [
        {
          "output_type": "stream",
          "name": "stdout",
          "text": [
            "Suma: 13\n",
            "Resta: 7\n",
            "Multiplicación: 30\n",
            "División: 3.3333333333333335\n",
            "División entera: 3\n",
            "Módulo: 1\n",
            "Potencia: 1000\n"
          ]
        }
      ]
    },
    {
      "cell_type": "markdown",
      "source": [
        "[Audio operaciones matemáticas] https://github.com/PaulaPulidoB/EstructurasAlg/estructurasalgoritmicas/Operacionesmatemáticas.mp3"
      ],
      "metadata": {
        "id": "dmkoL9bEQFRq"
      }
    },
    {
      "cell_type": "code",
      "source": [
        "# se guardan tres notas\n",
        "nota1 = 15\n",
        "nota2 = 18\n",
        "nota3 = 17\n",
        "\n",
        "# acá se calcula la suma total de las tres notas\n",
        "suma = nota1 + nota2 + nota3\n",
        "\n",
        "# se calculamos el promedio\n",
        "promedio = suma / 3\n",
        "\n",
        "# Calcula cuánto falta para llegar a la nota máxima que es 20\n",
        "faltante = 20 - promedio\n",
        "\n",
        "# estos son los resultados\n",
        "print(\"Suma de las notas:\", suma)\n",
        "print(\"Promedio:\", promedio)\n",
        "print(\"Faltante para 20:\", faltante)"
      ],
      "metadata": {
        "colab": {
          "base_uri": "https://localhost:8080/"
        },
        "id": "CKyxJqYWfs_K",
        "outputId": "b1bbf151-cc27-4f0f-803d-fb3caa8abecf"
      },
      "execution_count": null,
      "outputs": [
        {
          "output_type": "stream",
          "name": "stdout",
          "text": [
            "Suma de las notas: 50\n",
            "Promedio: 16.666666666666668\n",
            "Faltante para 20: 3.333333333333332\n"
          ]
        }
      ]
    },
    {
      "cell_type": "code",
      "source": [
        "#LÓGICA COMPUTACIONAL Y OPERADORES LÓGICOS\n",
        "#La lógica computacional es una rama de la informática que estudia\n",
        "#cómo las computadoras pueden realizar operaciones basadas en la\n",
        "#lógica matemática. En Python, se usan operadores lógicos para\n",
        "#combinar expresiones booleanas (es decir, expresiones que solo\n",
        "#pueden ser True o False)\n",
        "\n",
        "#Operadores Lógicos en Python\n",
        "#En Python, los operadores lógicos más comunes son:\n",
        "#and: Devuelve True si ambas expresiones son True.\n",
        "#or: Devuelve True si al menos una de las expresiones es True.\n",
        "#not: Invierte el valor de la expresión; convierte True en False y viceversa.\n",
        "\n",
        "#denominamos las variables x, y\n",
        "x = 10\n",
        "y = 5\n",
        "\n",
        "# Usamos and\n",
        "resultado = (x > 5) and (y < 10)\n",
        "print(resultado)  # True, porque ambas condiciones son verdaderas"
      ],
      "metadata": {
        "colab": {
          "base_uri": "https://localhost:8080/"
        },
        "id": "3a0zV8PPgkeZ",
        "outputId": "41301bf8-9659-4b8e-f6f4-887ff7912712"
      },
      "execution_count": null,
      "outputs": [
        {
          "output_type": "stream",
          "name": "stdout",
          "text": [
            "True\n"
          ]
        }
      ]
    },
    {
      "cell_type": "markdown",
      "source": [
        "[Audio Lógica] https://github.com/PaulaPulidoB/EstructurasAlg/estructurasalgoritmicas/Lógicacomputacionaloperadoreslógicos.mp3"
      ],
      "metadata": {
        "id": "5v3-pOGmP7Nd"
      }
    },
    {
      "cell_type": "code",
      "source": [
        "#denominamos las variables x, y\n",
        "x = 10\n",
        "y = 15\n",
        "\n",
        "# Usamos or\n",
        "resultado = (x > 5) or (y < 10)\n",
        "print(resultado)  # True, porque al menos una condición es verdadera"
      ],
      "metadata": {
        "colab": {
          "base_uri": "https://localhost:8080/"
        },
        "id": "vF5YGFHThSqn",
        "outputId": "7661d61c-a35d-46cb-8aa4-4497f43153cb"
      },
      "execution_count": null,
      "outputs": [
        {
          "output_type": "stream",
          "name": "stdout",
          "text": [
            "True\n"
          ]
        }
      ]
    },
    {
      "cell_type": "code",
      "source": [
        "#IF/ELSE ELIF\n",
        "#Son estructuras de decisión que permiten ejecutar diferentes\n",
        "#bloques de código según se cumpla o no una condición.\n",
        "#En Python, if, elif, y else son palabras clave que se usan\n",
        "#para crear condicionales, permitiendo que el programa tome decisiones.\n",
        "\n",
        "#El código dentro del bloque if se ejecuta solo si la condición es True.\n",
        "#Si no, Python verifica las condiciones en los elif, y si ninguna se cumple, ejecuta el bloque else.\n",
        "#En Python, usamos estas palabras clave para ejecutar código según condiciones.\n",
        "\n",
        "#if → Se ejecuta si la condición es verdadera.\n",
        "#elif (else if) → Se evalúa otra condición si la anterior fue falsa.\n",
        "#else → Se ejecuta si ninguna condición anterior fue verdadera.\n",
        "\n",
        "#Verificar si una persona es mayor de edad\n",
        "# se asigna una edad cualquiera\n",
        "edad = 17\n",
        "# se pregunta si edad es mayor o igual a 18\n",
        "if edad >= 18:\n",
        "    print(\"Eres mayor de edad.\")\n",
        "else:\n",
        "    print(\"Eres menor de edad.\") # se imprime el resultado"
      ],
      "metadata": {
        "colab": {
          "base_uri": "https://localhost:8080/"
        },
        "id": "D1VBP14aj3ug",
        "outputId": "00213b91-21fa-46d8-837f-c0b7bf8e060e"
      },
      "execution_count": null,
      "outputs": [
        {
          "output_type": "stream",
          "name": "stdout",
          "text": [
            "Eres menor de edad.\n"
          ]
        }
      ]
    },
    {
      "cell_type": "markdown",
      "source": [
        "[Audio IF- ELSE - ELIF] https://github.com/PaulaPulidoB/EstructurasAlg/estructurasalgoritmicas/IF-ELSE-ELIF.mp3"
      ],
      "metadata": {
        "id": "cMxR5-giPkFo"
      }
    },
    {
      "cell_type": "code",
      "source": [
        "# Clasificar una nota con if, elif, else\n",
        "# Aquí creamos una variable llamada nota y le damos el valor 14\n",
        "nota = 14\n",
        "# se hace la pregunta ¿La nota es mayor o igual a 18?\n",
        "if nota >= 18:\n",
        "    print(\"Excelente\")\n",
        "elif nota >= 14:\n",
        "    print(\"Aprobado\") #Como la condición del elif fue verdadera, se ejecuta esta línea\n",
        "else:\n",
        "    print(\"Desaprobado\")"
      ],
      "metadata": {
        "colab": {
          "base_uri": "https://localhost:8080/"
        },
        "id": "Y2qrBzNUkn39",
        "outputId": "75401b83-97a5-4399-a5d3-8e0c9117ee3e"
      },
      "execution_count": null,
      "outputs": [
        {
          "output_type": "stream",
          "name": "stdout",
          "text": [
            "Aprobado\n"
          ]
        }
      ]
    },
    {
      "cell_type": "code",
      "source": [
        "#FUNCIONES Y PARÁMETROS\n",
        "#Una función es un bloque de código que realiza una tarea\n",
        "#específica. Se puede reutilizar, lo que ayuda a que tu código sea más\n",
        "#limpio y ordenado.\n",
        "\n",
        "#Se define con la palabra clave def.\n",
        "#Los parámetros son variables que se usan en la definición de una\n",
        "#función. Sirven para que se pueda enviar información a la función\n",
        "#cuando es llamada.\n",
        "\n",
        "# Función que suma dos números\n",
        "def sumar(a, b):           # a y b son los parámetros\n",
        "    resultado = a + b\n",
        "    return resultado\n",
        "\n",
        "print(sumar(4, 5))         # Llama a la función con los valores 4 y 5"
      ],
      "metadata": {
        "colab": {
          "base_uri": "https://localhost:8080/"
        },
        "id": "Lhe6BNctvkj-",
        "outputId": "60661e8f-697c-4940-ba35-93c37437be0e"
      },
      "execution_count": null,
      "outputs": [
        {
          "output_type": "stream",
          "name": "stdout",
          "text": [
            "9\n"
          ]
        }
      ]
    },
    {
      "cell_type": "markdown",
      "source": [
        "[Audio funcione y parametros] https://github.com/PaulaPulidoB/EstructurasAlg/estructurasalgoritmicas/Funcionesyparámetros.mp3"
      ],
      "metadata": {
        "id": "-y0gk2jxPY7Z"
      }
    },
    {
      "cell_type": "code",
      "source": [
        "def pedir_comida(comida, bebida):\n",
        "    print(f\"Has pedido {comida} con una bebida de {bebida}.\")\n",
        "\n",
        "pedir_comida(\"hamburguesa\", \"refresco\")\n",
        "\n"
      ],
      "metadata": {
        "colab": {
          "base_uri": "https://localhost:8080/"
        },
        "id": "H1vdoXpRT1Ra",
        "outputId": "278ae796-4f20-4add-db05-e1a387d23ad8"
      },
      "execution_count": null,
      "outputs": [
        {
          "output_type": "stream",
          "name": "stdout",
          "text": [
            "Has pedido hamburguesa con una bebida de refresco.\n"
          ]
        }
      ]
    },
    {
      "cell_type": "code",
      "source": [
        "#CICLO FOR\n",
        "#Un ciclo for se usa para repetir un bloque de código varias veces.\n",
        "#Generalmente, se usa para recorrer elementos en una lista, rango de\n",
        "#números, cadenas de texto, etc.\n",
        "\n",
        "#variable: es un nombre temporal que toma el valor de cada\n",
        "#elemento en la secuencia.\n",
        "#secuencia: puede ser una lista, un rango, una cadena, etc.\n",
        "\n",
        "#Encontrar el número mayor\n",
        "numeros = [3, 5, 7, 2]\n",
        "mayor = numeros[0] # estamos inicializando una variable llamada mayor cuyo\n",
        "# número es el primero de la lista, es decir el 3\n",
        "\n",
        "for n in numeros:\n",
        "    if n > mayor:\n",
        "        mayor = n\n",
        "# se actualiza la variable mayor y le damos el nuevo número n, que ahora es el mayor\n",
        "print(\"El número mayor es:\", mayor)\n"
      ],
      "metadata": {
        "colab": {
          "base_uri": "https://localhost:8080/"
        },
        "id": "msD_P95XWLH3",
        "outputId": "c0491823-f786-4570-96b6-ddd901e29c20"
      },
      "execution_count": null,
      "outputs": [
        {
          "output_type": "stream",
          "name": "stdout",
          "text": [
            "El número mayor es: 7\n"
          ]
        }
      ]
    },
    {
      "cell_type": "markdown",
      "source": [
        "Grabación de audio\n",
        "\n",
        "[Audio ciclo FOR]https://github.com/PaulaPulidoB/EstructurasAlg/estructurasalgoritmicas/Ciclo%20FOR.mp3"
      ],
      "metadata": {
        "id": "41LyoKYtOVwZ"
      }
    },
    {
      "cell_type": "code",
      "source": [
        " #Mostrar los números entre 1 y 100 que son divisibles por 3.\n",
        "for n in range(1, 25):\n",
        "    if n % 3 == 0:  # Si el número es divisible por 3\n",
        "        print(n)\n"
      ],
      "metadata": {
        "colab": {
          "base_uri": "https://localhost:8080/"
        },
        "id": "VpE7xsUaYWWt",
        "outputId": "e81fbd50-8560-4509-dd98-f56bcb2a9994"
      },
      "execution_count": null,
      "outputs": [
        {
          "output_type": "stream",
          "name": "stdout",
          "text": [
            "3\n",
            "6\n",
            "9\n",
            "12\n",
            "15\n",
            "18\n",
            "21\n",
            "24\n"
          ]
        }
      ]
    }
  ]
}